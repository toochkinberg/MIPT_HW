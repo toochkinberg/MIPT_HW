{
  "cells": [
    {
      "cell_type": "markdown",
      "metadata": {
        "id": "jDkJI9kHj5iR"
      },
      "source": [
        "# **Важно!**\n",
        "\n",
        "* Домашнее задание состоит из нескольких задач, которые вам нужно решить.\n",
        "*   Баллы выставляются по принципу «выполнено/невыполнено».\n",
        "*   За каждую выполненную задачу вы получаете баллы (количество баллов за задание указано в скобках).\n",
        "\n",
        "**Инструкция:** выполните задания в этом же ноутбуке (места под решения **каждой** задачи обозначаются как **#НАЧАЛО ВАШЕГО РЕШЕНИЯ** и **#КОНЕЦ ВАШЕГО РЕШЕНИЯ**).\n",
        "\n",
        "**Как отправить задание на проверку:** вам необходимо сохранить решение в данном блокноте и отправить итоговый **файл .IPYNB** на учебной платформе в **стандартную форму сдачи домашнего задания.**\n",
        "\n",
        "**Сроки проверки:** преподаватель проверит домашнее задание в течение недели после дедлайна и даст вам обратную связь.\n",
        "\n",
        "# **Перед выполнением задания**\n",
        "\n",
        "1. **Перезапустите ядро (restart the kernel):** в меню выбрать **Ядро (Kernel)**\n",
        "→ **Перезапустить (Restart).**\n",
        "2. **Выполните** **все ячейки (run all cells)**: в меню выбрать **Ячейка (Cell)**\n",
        "→ **Запустить все (Run All)**.\n",
        "\n",
        "После ячеек с заданием следуют ячейки с проверкой **с помощью assert**: если в коде есть ошибки, assert выведет уведомление об ошибке; если в коде нет ошибок, assert отработает без вывода дополнительной информации."
      ]
    },
    {
      "cell_type": "markdown",
      "metadata": {
        "id": "FaVe77Fzj5iT"
      },
      "source": [
        "---"
      ]
    },
    {
      "cell_type": "code",
      "execution_count": 1,
      "metadata": {
        "id": "8R3RBMyxzyp0",
        "nbgrader": {
          "grade": false,
          "grade_id": "cell-3a9d1fb3",
          "locked": true,
          "schema_version": 3,
          "solution": false,
          "task": false
        },
        "tags": []
      },
      "outputs": [],
      "source": [
        "# Запустите эту ячейку для первоначальной настройки\n",
        "import numpy as np\n",
        "import pandas as pd\n",
        "import matplotlib.pyplot as plt\n",
        "\n",
        "np.random.seed(21)\n",
        "plt.style.use('fivethirtyeight')\n",
        "plt.rc('lines', linewidth=2)"
      ]
    },
    {
      "cell_type": "markdown",
      "metadata": {
        "id": "9L7Rrqpzzyp1",
        "nbgrader": {
          "grade": false,
          "grade_id": "cell-bc02cf6bf1ffde",
          "locked": true,
          "schema_version": 3,
          "solution": false,
          "task": false
        },
        "tags": []
      },
      "source": [
        "# Домашнее задание 1. Основные термины в машинном обучении. Базовая математика в машинном обучении"
      ]
    },
    {
      "cell_type": "markdown",
      "metadata": {
        "id": "zYGiIuLVeO-F"
      },
      "source": [
        "# Часть 1. Векторы и основы работы в NumPy"
      ]
    },
    {
      "cell_type": "markdown",
      "metadata": {
        "id": "6L_wWqzhzyp2",
        "nbgrader": {
          "grade": false,
          "grade_id": "cell-b40bdcf9629b9",
          "locked": true,
          "schema_version": 3,
          "solution": false,
          "task": false
        },
        "tags": []
      },
      "source": [
        "**Задание 1 (1 балл)**\n",
        "\n",
        "Напишите код функции для вычисления L2-нормы одномерного np.array вектора с помощью NumPy."
      ]
    },
    {
      "cell_type": "code",
      "execution_count": 9,
      "metadata": {
        "id": "sM9kPY6tzyp2",
        "nbgrader": {
          "grade": false,
          "grade_id": "l2_norm",
          "locked": false,
          "schema_version": 3,
          "solution": true,
          "task": false
        },
        "tags": []
      },
      "outputs": [],
      "source": [
        "def l2_norm(vector):\n",
        "\n",
        "    \"\"\"\n",
        "    Аргументы:\n",
        "    vector – одномерный np.array вектор.\n",
        "\n",
        "    Возвращает:\n",
        "    float\n",
        "    \"\"\"\n",
        "\n",
        "    #НАЧАЛО ВАШЕГО РЕШЕНИЯ\n",
        "    dist = np.sqrt(np.sum(vector ** 2))\n",
        "    return dist\n",
        "    #КОНЕЦ ВАШЕГО РЕШЕНИЯ"
      ]
    },
    {
      "cell_type": "code",
      "execution_count": 10,
      "metadata": {
        "id": "742ddJ3Tzyp3",
        "nbgrader": {
          "grade": true,
          "grade_id": "l2_norm_test",
          "locked": true,
          "points": 1,
          "schema_version": 3,
          "solution": false,
          "task": false
        },
        "tags": []
      },
      "outputs": [],
      "source": [
        "# Тест 1: вектор (1, 0, 0) имеет L2-норму 1.\n",
        "vector1 = np.array([1, 0, 0])\n",
        "assert l2_norm(vector1) == 1.0\n",
        "\n",
        "# Тест 2: вектор (0, 1, 0) имеет L2-норму 1.\n",
        "vector2 = np.array([0, 1, 0])\n",
        "assert l2_norm(vector2) == 1.0\n",
        "\n",
        "# Тест 3: вектор (1, 2, 3, 4, 5, 6, 7, 8, 9) имеет L2-норму sqrt(285).\n",
        "vector3 = np.array([1, 2, 3, 4, 5, 6, 7, 8, 9])\n",
        "assert l2_norm(vector3) == np.sqrt(285)\n",
        "\n",
        "# Тест 3: вектор (0, 0, 1) имеет L2-норму 1.\n",
        "vector3 = np.array([0, 0, 1])\n",
        "assert l2_norm(vector3) == 1.0\n",
        "\n",
        "# Тест 4: вектор (3, 4) имеет L2-норму 5.\n",
        "vector4 = np.array([3, 4])\n",
        "assert l2_norm(vector4) == 5.0\n",
        "\n",
        "# Тест 5: вектор (-3, -4) имеет L2-норму 5.\n",
        "vector5 = np.array([-3, -4])\n",
        "assert l2_norm(vector5) == 5.0\n",
        "\n",
        "# Тест 6: вектор (1, 1, 1) имеет L2-норму sqrt(3).\n",
        "vector6 = np.array([1, 1, 1])\n",
        "assert l2_norm(vector6) == np.sqrt(3)\n",
        "\n",
        "# Тест 7: вектор (0, 0, 0) имеет L2-норму 0.\n",
        "vector7 = np.array([0, 0, 0])\n",
        "assert l2_norm(vector7) == 0.0\n",
        "\n",
        "# Тест 8: вектор (1, 2, 3, 4, 5) имеет L2-норму sqrt(55).\n",
        "vector8 = np.array([1, 2, 3, 4, 5])\n",
        "assert l2_norm(vector8) == np.sqrt(55)\n",
        "\n",
        "# Тест 9: вектор (1, 2, 3, 4, 5, 6) имеет L2-норму sqrt(91).\n",
        "vector9 = np.array([1, 2, 3, 4, 5, 6])\n",
        "assert l2_norm(vector9) == np.sqrt(91)\n",
        "\n",
        "# Тест 10: вектор (1, 2, 3, 4, 5, 6, 7, 8, 9) имеет L2-норму sqrt(285).\n",
        "vector10 = np.array([1, 2, 3, 4, 5, 6, 7, 8, 9])\n",
        "assert l2_norm(vector10) == np.sqrt(285)"
      ]
    },
    {
      "cell_type": "markdown",
      "metadata": {
        "id": "TF38RAXSzyp5",
        "nbgrader": {
          "grade": false,
          "grade_id": "cell-93859werh5c6cc",
          "locked": true,
          "schema_version": 3,
          "solution": false,
          "task": false
        },
        "tags": []
      },
      "source": [
        "**Задание 2 (1 балл)**\n",
        "\n",
        "Напишите код функции, которая на вход принимает два одномерных np.array массива чисел и вычисляет их скалярное произведение с помощью NumPy. Если длины векторов не равны или векторы пустые, необходимо вернуть None."
      ]
    },
    {
      "cell_type": "code",
      "execution_count": 13,
      "metadata": {
        "id": "zj7Mgw9Zzyp5",
        "nbgrader": {
          "grade": false,
          "grade_id": "scalar_product",
          "locked": false,
          "schema_version": 3,
          "solution": true,
          "task": false
        },
        "tags": []
      },
      "outputs": [],
      "source": [
        "def scalar_product(arr1, arr2):\n",
        "    \"\"\"\n",
        "    Вычисляет скалярное произведение двух одномерных массивов.\n",
        "\n",
        "    Аргументы:\n",
        "    arr1, arr2 -- массивы, представленные в виде np.array.\n",
        "\n",
        "    Возвращает:\n",
        "    Скаляр, который является результатом вычисления\n",
        "    \"\"\"\n",
        "\n",
        "\n",
        "    #НАЧАЛО ВАШЕГО РЕШЕНИЯ\n",
        "    if len(arr1) == 0 or len (arr2) == 0 or len(arr1) != len (arr2):\n",
        "        return None\n",
        "    else:\n",
        "        return arr1 @ arr2\n",
        "    #КОНЕЦ ВАШЕГО РЕШЕНИЯ"
      ]
    },
    {
      "cell_type": "code",
      "execution_count": 15,
      "metadata": {
        "id": "Fd7dhAbezyp5",
        "nbgrader": {
          "grade": true,
          "grade_id": "scalar_product_test",
          "locked": true,
          "points": 1,
          "schema_version": 3,
          "solution": false,
          "task": false
        },
        "tags": []
      },
      "outputs": [],
      "source": [
        "a = np.array([1, 2, 3])\n",
        "b = np.array([4, 5, 6])\n",
        "assert scalar_product(a, b) == 32\n",
        "\n",
        "a = np.array([1, 0, 0])\n",
        "b = np.array([0, 1, 0])\n",
        "assert scalar_product(a, b) == 0\n",
        "\n",
        "a = np.array([1, 2, 3, 4, 5])\n",
        "b = np.array([5, 4, 3, 2, 1])\n",
        "assert scalar_product(a, b) == 35\n",
        "\n",
        "a = np.array([1, 2])\n",
        "b = np.array([4, 5, 6])\n",
        "assert scalar_product(a, b) is None\n",
        "\n",
        "a = np.array([-1, 2, -3])\n",
        "b = np.array([4, -5, 6])\n",
        "assert scalar_product(a, b) == -32\n",
        "\n",
        "a = np.array([0, 0, 0])\n",
        "b = np.array([4, 5, 6])\n",
        "assert scalar_product(a, b) == 0\n",
        "\n",
        "a = np.array([1, 2, 3])\n",
        "b = np.array([4, 5])\n",
        "assert scalar_product(a, b) is None\n",
        "\n",
        "a = np.array([])\n",
        "b = np.array([4, 5, 6])\n",
        "assert scalar_product(a, b) is None\n",
        "\n",
        "a = np.array([])\n",
        "b = np.array([])\n",
        "assert scalar_product(a, b) is None\n",
        "\n",
        "a = np.array([1])\n",
        "b = np.array([4])\n",
        "assert scalar_product(a, b) == 4"
      ]
    },
    {
      "cell_type": "markdown",
      "metadata": {
        "id": "Y8jxNxo4zyp5",
        "nbgrader": {
          "grade": false,
          "grade_id": "cell-938593csghcc",
          "locked": true,
          "schema_version": 3,
          "solution": false,
          "task": false
        },
        "tags": []
      },
      "source": [
        "**Задание 3 (1 балл)**\n",
        "\n",
        "Напишите код функции, которая на вход принимает два одномерных np.array массива чисел и вычисляет косинусное расстояние между ними с помощью NumPy. Если длины векторов не равны или один из векторов пустой, необходимо вернуть None. Если один из векторов нулевой, также нужно вернуть None."
      ]
    },
    {
      "cell_type": "code",
      "execution_count": 20,
      "metadata": {
        "id": "-jbh2xgDzyp5",
        "nbgrader": {
          "grade": false,
          "grade_id": "cosine_distance",
          "locked": false,
          "schema_version": 3,
          "solution": true,
          "task": false
        },
        "tags": []
      },
      "outputs": [],
      "source": [
        "def cosine_distance(arr1, arr2):\n",
        "    \"\"\"\n",
        "    Вычисляет косинусное расстояние между двумя одномерными массивами.\n",
        "\n",
        "    Аргументы:\n",
        "    arr1, arr2 -- массивы, представленные в виде np.array.\n",
        "\n",
        "    Возвращает:\n",
        "    float, который является результатом вычисления\n",
        "    \"\"\"\n",
        "\n",
        "    #НАЧАЛО ВАШЕГО РЕШЕНИЯ\n",
        "    if len(arr1) == 0 or len (arr2) == 0 or len(arr1) != len (arr2):\n",
        "        return None\n",
        "    else:\n",
        "        norm1 = np.linalg.norm(arr1)\n",
        "        norm2 = np.linalg.norm(arr2)\n",
        "        if norm1 == 0 or norm2 == 0:\n",
        "            return None\n",
        "        dot = np.dot(arr1, arr2)\n",
        "        cos_sim = dot / (norm1 * norm2)\n",
        "        return 1 - cos_sim\n",
        "    #КОНЕЦ ВАШЕГО РЕШЕНИЯ"
      ]
    },
    {
      "cell_type": "code",
      "execution_count": 21,
      "metadata": {
        "id": "3YMGPIJEzyp6",
        "nbgrader": {
          "grade": true,
          "grade_id": "cosine_distance_test",
          "locked": true,
          "points": 1,
          "schema_version": 3,
          "solution": false,
          "task": false
        },
        "tags": []
      },
      "outputs": [],
      "source": [
        "assert np.isclose(cosine_distance(np.array([1, 2, 3]), np.array([4, 5, 6])), 0.025368153802923787)\n",
        "assert cosine_distance(np.array([1, 2, 3]), np.array([4, 5])) is None\n",
        "assert cosine_distance(np.array([1, 2, 3]), np.array([])) is None\n",
        "assert np.isclose(cosine_distance(np.array([0, 1, 0, 1]), np.array([1, 0, 1, 0])), 1.0)\n",
        "assert np.isclose(cosine_distance(np.array([1, 0, 1]), np.array([-1, 0, -1])), 2.0)\n",
        "assert np.isclose(cosine_distance(np.array([3, 4]), np.array([6, 8])), 0.0)\n",
        "assert cosine_distance(np.array([]), np.array([1, 2, 3])) is None\n",
        "assert cosine_distance(np.array([]), np.array([])) is None\n",
        "assert cosine_distance(np.array([1, 2, 3]), np.array([0, 0, 0])) is None\n",
        "assert cosine_distance(np.array([0, 0, 0]), np.array([1, 2, 3])) is None"
      ]
    },
    {
      "cell_type": "markdown",
      "metadata": {
        "id": "MkAxuCVhzyp6",
        "nbgrader": {
          "grade": false,
          "grade_id": "cell-7f3c2292ajtt",
          "locked": true,
          "schema_version": 3,
          "solution": false,
          "task": false
        },
        "tags": []
      },
      "source": [
        "# Часть 2. Матрицы. Сложение, умножение, определитель"
      ]
    },
    {
      "cell_type": "markdown",
      "metadata": {
        "id": "FnizqfqHzyp6",
        "nbgrader": {
          "grade": false,
          "grade_id": "cell-938593c4a21sf5c6cc",
          "locked": true,
          "schema_version": 3,
          "solution": false,
          "task": false
        },
        "tags": []
      },
      "source": [
        "**Задание 4 (1 балл)**\n",
        "\n",
        "Напишите функцию, которая на вход принимает два np.array массива чисел и производит их поэлементное сложение с помощью NumPy. Если размеры матриц не совпадают или массивы пустые (не содержат элементов), вернуть None."
      ]
    },
    {
      "cell_type": "code",
      "execution_count": 22,
      "metadata": {
        "id": "KnwCoGgazyp6",
        "nbgrader": {
          "grade": false,
          "grade_id": "add_arrays",
          "locked": false,
          "schema_version": 3,
          "solution": true,
          "task": false
        },
        "tags": []
      },
      "outputs": [],
      "source": [
        "def is_empty(arr):\n",
        "    \"\"\"\n",
        "    Вспомогательная функция\n",
        "    Проверяет, является ли многомерный массив пустым.\n",
        "\n",
        "    Аргументы:\n",
        "    arr -- массив, представленный в виде np.array.\n",
        "\n",
        "    Возвращает:\n",
        "    bool -- True, если массив пустой, False -- в противном случае\n",
        "    \"\"\"\n",
        "    return arr.size == 0\n",
        "\n",
        "\n",
        "\n",
        "def add_arrays(arr1, arr2):\n",
        "    \"\"\"\n",
        "    Производит поэлементное сложение двух массивов.\n",
        "\n",
        "    Аргументы:\n",
        "    arr1, arr2 -- массивы, представленные в виде np.array.\n",
        "\n",
        "    Возвращает:\n",
        "    np.array, являющийся результатом сложения\n",
        "    \"\"\"\n",
        "    #НАЧАЛО ВАШЕГО РЕШЕНИЯ\n",
        "    if is_empty(arr1) or is_empty(arr2):\n",
        "        return None\n",
        "    return arr1 + arr2\n",
        "    #КОНЕЦ ВАШЕГО РЕШЕНИЯ"
      ]
    },
    {
      "cell_type": "code",
      "execution_count": 24,
      "metadata": {
        "id": "US7zEcWczyp6",
        "nbgrader": {
          "grade": true,
          "grade_id": "add_arrays_test",
          "locked": true,
          "points": 1,
          "schema_version": 3,
          "solution": false,
          "task": false
        },
        "tags": []
      },
      "outputs": [],
      "source": [
        "arr1 = np.array([1, 2, 3])\n",
        "arr2 = np.array([4, 5, 6])\n",
        "assert np.array_equal(add_arrays(arr1, arr2), np.array([5, 7, 9]))\n",
        "\n",
        "arr1 = np.array([1, 2, 3])\n",
        "arr2 = np.array([])\n",
        "assert add_arrays(arr1, arr2) is None\n",
        "\n",
        "arr1 = np.array([1.1, 2.2, 3.3])\n",
        "arr2 = np.array([4.4, 5.5, 6.6])\n",
        "assert np.allclose(add_arrays(arr1, arr2), np.array([5.5, 7.7, 9.9]))\n",
        "\n",
        "arr1 = np.array([1, 2, 3])\n",
        "arr2 = np.array([4, 5, 6])\n",
        "assert np.array_equal(add_arrays(arr1, arr2), add_arrays(arr2, arr1))\n",
        "\n",
        "arr1 = np.array([1, 2, 3])\n",
        "arr2 = np.array([4, 5, 6])\n",
        "arr3 = np.array([7, 8, 9])\n",
        "assert np.array_equal(add_arrays(add_arrays(arr1, arr2), arr3), add_arrays(arr1, add_arrays(arr2, arr3)))\n",
        "\n",
        "arr1 = np.array([1, 2, 3])\n",
        "arr2 = np.array([4, 5, 6])\n",
        "assert np.array_equal(add_arrays(arr1, arr2), add_arrays(arr1, arr2))\n",
        "\n",
        "arr1 = np.array([])\n",
        "arr2 = np.array([1, 2, 3])\n",
        "assert add_arrays(arr1, arr2) is None\n",
        "\n",
        "arr1 = np.array([])\n",
        "arr2 = np.array([[], []])\n",
        "assert add_arrays(arr1, arr2) is None\n",
        "\n",
        "arr1 = np.random.rand(1000)\n",
        "arr2 = np.random.rand(1000)\n",
        "assert np.allclose(add_arrays(arr1, arr2), arr1 + arr2)"
      ]
    },
    {
      "cell_type": "markdown",
      "metadata": {
        "id": "x6YxXuX0zyp7",
        "nbgrader": {
          "grade": false,
          "grade_id": "cell-938593cdds5c6cc",
          "locked": true,
          "schema_version": 3,
          "solution": false,
          "task": false
        },
        "tags": []
      },
      "source": [
        "**Задание 5 (1 балл)**\n",
        "\n",
        "Напишите функцию, которая на вход принимает два np.array массива чисел и производит их умножение с помощью NumPy. Должны соблюдаться правила произведения матриц. Если правила не соблюдаются, функция должна вернуть None."
      ]
    },
    {
      "cell_type": "code",
      "execution_count": 46,
      "metadata": {
        "id": "1RgNeF00zyp7",
        "nbgrader": {
          "grade": false,
          "grade_id": "matrix_multiply",
          "locked": false,
          "schema_version": 3,
          "solution": true,
          "task": false
        },
        "tags": []
      },
      "outputs": [],
      "source": [
        "import numpy as np\n",
        "\n",
        "def matrix_multiply(a, b):\n",
        "    \"\"\"\n",
        "    Умножает две матрицы a и b с помощью NumPy.\n",
        "\n",
        "    Аргументы:\n",
        "    a, b -- две матрицы, представленные в виде np.array\n",
        "\n",
        "    Возвращает:\n",
        "    Матрицу, полученную в результате умножения матриц a и b\n",
        "    \"\"\"\n",
        "    #НАЧАЛО ВАШЕГО РЕШЕНИЯ\n",
        "    not_nempty = a.size != 0 and b.size != 0\n",
        "    right_dim = a.ndim == b.ndim and a.ndim != 1\n",
        "    right_shapes = (a.shape[1] == b.shape[0]) if right_dim else False\n",
        "    if not_nempty and right_shapes and right_dim:\n",
        "        return a @ b\n",
        "    return None\n",
        "    #КОНЕЦ ВАШЕГО РЕШЕНИЯ"
      ]
    },
    {
      "cell_type": "code",
      "execution_count": 48,
      "metadata": {
        "id": "BRx0TnRUzyp7",
        "nbgrader": {
          "grade": true,
          "grade_id": "matrix_multiply_test",
          "locked": true,
          "points": 1,
          "schema_version": 3,
          "solution": false,
          "task": false
        },
        "tags": []
      },
      "outputs": [],
      "source": [
        "a1 = np.array([[1, 2], [3, 4]])\n",
        "b1 = np.array([[5, 6], [7, 8]])\n",
        "c1 = np.array([[19, 22], [43, 50]])\n",
        "assert np.array_equal(matrix_multiply(a1, b1), c1)\n",
        "\n",
        "a2 = np.array([[1, 2, 3], [4, 5, 6]])\n",
        "b2 = np.array([[7, 8], [9, 10], [11, 12]])\n",
        "c2 = np.array([[58, 64], [139, 154]])\n",
        "assert np.array_equal(matrix_multiply(a2, b2), c2)\n",
        "\n",
        "a3 = np.array([[1, 2, 3], [4, 5, 6]])\n",
        "b3 = np.array([[7, 8], [9, 10]])\n",
        "assert matrix_multiply(a3, b3) is None\n",
        "\n",
        "a4 = np.array([1, 2, 3])\n",
        "b4 = np.array([4, 5, 6])\n",
        "assert matrix_multiply(a4, b4) is None\n",
        "\n",
        "a5 = np.array([[1, 2], [3, 4]])\n",
        "b5 = np.array([[5], [6]])\n",
        "c5 = np.array([[17], [39]])\n",
        "assert np.array_equal(matrix_multiply(a5, b5), c5)\n",
        "\n",
        "a6 = np.array([[1, 2, 3]])\n",
        "b6 = np.array([[4], [5], [6]])\n",
        "c6 = np.array([[32]])\n",
        "assert np.array_equal(matrix_multiply(a6, b6), c6)\n",
        "\n",
        "a7 = np.array([[]])\n",
        "b7 = np.array([[1]])\n",
        "assert matrix_multiply(a7, b7) is None\n",
        "\n",
        "a8 = np.array([[]])\n",
        "b8 = np.array([[]])\n",
        "assert matrix_multiply(a8, b8) is None"
      ]
    },
    {
      "cell_type": "markdown",
      "metadata": {
        "id": "llJ1NSJ2zyp7",
        "nbgrader": {
          "grade": false,
          "grade_id": "cell-938593cddehc",
          "locked": true,
          "schema_version": 3,
          "solution": false,
          "task": false
        },
        "tags": []
      },
      "source": [
        "**Задание 6 (1 балл)**\n",
        "\n",
        "Напишите функцию, которая на вход принимает np.array массив чисел и вычисляет определитель с помощью NumPy. Если матрица не квадратная, функция должна вернуть None."
      ]
    },
    {
      "cell_type": "code",
      "execution_count": 61,
      "metadata": {
        "id": "GUZ10bdtzyp7",
        "nbgrader": {
          "grade": false,
          "grade_id": "determinant",
          "locked": false,
          "schema_version": 3,
          "solution": true,
          "task": false
        },
        "tags": []
      },
      "outputs": [],
      "source": [
        "def determinant(arr):\n",
        "    \"\"\"\n",
        "    Вычисляет определитель матрицы arr с помощью NumPy.\n",
        "\n",
        "    Аргументы:\n",
        "    arr -- матрица, представленная в виде np.array.\n",
        "\n",
        "    Возвращает:\n",
        "    Определитель матрицы либо None\n",
        "    \"\"\"\n",
        "    #НАЧАЛО ВАШЕГО РЕШЕНИЯ\n",
        "    if arr.size == 0:\n",
        "        return None\n",
        "    elif arr.shape[0] == arr.shape[1]:\n",
        "        return np.linalg.det(arr)\n",
        "    return None\n",
        "    #КОНЕЦ ВАШЕГО РЕШЕНИЯ"
      ]
    },
    {
      "cell_type": "code",
      "execution_count": 62,
      "metadata": {
        "id": "h2tcb1mvzyp7",
        "nbgrader": {
          "grade": true,
          "grade_id": "determinant_test",
          "locked": true,
          "points": 1,
          "schema_version": 3,
          "solution": false,
          "task": false
        },
        "tags": []
      },
      "outputs": [],
      "source": [
        "arr1 = np.array([[1, 2], [3, 4]])\n",
        "assert np.isclose(determinant(arr1), -2)\n",
        "\n",
        "arr2 = np.array([[1, 2, 3, 4], [5, 6, 7, 8], [9, 10, 11, 12]])\n",
        "assert determinant(arr2) == None\n",
        "\n",
        "arr3 = np.array([[1]])\n",
        "assert np.isclose(determinant(arr3), 1)\n",
        "\n",
        "arr2 = np.array([[1, 0, 0], [0, 1, 0], [0, 0, 1]])\n",
        "assert np.isclose(determinant(arr2), 1)\n",
        "\n",
        "arr3 = np.array([[1, 2, 3], [4, 5, 6], [7, 8, 9]])\n",
        "assert np.isclose(determinant(arr3), 0)\n",
        "\n",
        "arr5 = np.array([[1, 0], [0, 1], [0, 0]])\n",
        "assert determinant(arr5) == None\n",
        "\n",
        "arr6 = np.array([])\n",
        "assert determinant(arr6) == None\n",
        "\n",
        "arr8 = np.array([[1, 2], [3, 4], [5, 6]])\n",
        "assert determinant(arr8) == None\n",
        "\n",
        "arr9 = np.array([[1, 2, 3], [4, 5, 6]])\n",
        "assert determinant(arr9) == None\n",
        "\n",
        "arr10 = np.array([[1, 2], [3, 4], [5, 6]])\n",
        "assert determinant(arr10) == None"
      ]
    },
    {
      "cell_type": "markdown",
      "metadata": {
        "id": "TUGb3L7vzyp7",
        "nbgrader": {
          "grade": false,
          "grade_id": "cell-7d9f5sghj6f2b",
          "locked": true,
          "schema_version": 3,
          "solution": false,
          "task": false
        },
        "tags": []
      },
      "source": [
        "# Часть 3. Производные, градиент"
      ]
    },
    {
      "cell_type": "markdown",
      "metadata": {
        "id": "l6jc46gFzyp8",
        "nbgrader": {
          "grade": false,
          "grade_id": "cell-9385sgj15c6cc",
          "locked": true,
          "schema_version": 3,
          "solution": false,
          "task": false
        },
        "tags": []
      },
      "source": [
        "**Задание 7 (1 балл)**\n",
        "\n",
        "Напишите функцию для вычисления производной функции $\\frac{7x^3}{3} - \\frac{5x^2}{2}$ в точке `x` при шаге дискретизации `d`. Функция должна возвращать переменную `df_dx`."
      ]
    },
    {
      "cell_type": "code",
      "execution_count": 63,
      "metadata": {
        "id": "7L7Ok3OHzyp8",
        "nbgrader": {
          "grade": false,
          "grade_id": "calculate_dderivative",
          "locked": false,
          "schema_version": 3,
          "solution": true,
          "task": false
        },
        "tags": []
      },
      "outputs": [],
      "source": [
        "df_dx = 0\n",
        "\n",
        "def f(x):\n",
        "    return 7*x**3/3 - 5*x**2/2\n",
        "\n",
        "def calculate_derivative(x, h=0.000001):\n",
        "    \"\"\"\n",
        "    Вычисляет производную \\frac{7x^3}{3} - \\frac{5x^2}{2} в точке x.\n",
        "\n",
        "    Аргументы:\n",
        "    f -- функция, производную которой требуется вычислить\n",
        "    x -- точка, в которой требуется вычислить производную, float\n",
        "    h -- шаг дискретизации, значение по умолчанию 0.000001, float\n",
        "\n",
        "    Возвращает:\n",
        "    df_dx -- производная \\frac{7x^3}{3} - \\frac{5x^2}{2} в точке x\n",
        "    \"\"\"\n",
        "    #НАЧАЛО ВАШЕГО РЕШЕНИЯ\n",
        "    df_dx = (f(x + h) - f(x)) / h\n",
        "    #КОНЕЦ ВАШЕГО РЕШЕНИЯ\n",
        "    return df_dx"
      ]
    },
    {
      "cell_type": "code",
      "execution_count": 65,
      "metadata": {
        "id": "QI5VieuOzyp8",
        "nbgrader": {
          "grade": true,
          "grade_id": "calculate_dderivative_test",
          "locked": true,
          "points": 1,
          "schema_version": 3,
          "solution": false,
          "task": false
        },
        "tags": []
      },
      "outputs": [],
      "source": [
        "assert np.isclose(calculate_derivative(0), 0, atol=0.1)\n",
        "assert np.isclose(calculate_derivative(1), 2, atol=0.1)\n",
        "assert np.isclose(calculate_derivative(2), 18, atol=0.1)\n",
        "assert np.isclose(calculate_derivative(3), 48, atol=0.1)\n",
        "assert np.isclose(calculate_derivative(5), 150, atol=0.1)"
      ]
    },
    {
      "cell_type": "markdown",
      "metadata": {
        "id": "dn_zl_Q1Ahgr"
      },
      "source": [
        "**Задание 8 (1 балл)**\n",
        "\n",
        "Дан код построения графика функции $f(x)$ вместе с графиком касательной в точке $x_0$. Напомним, что тангенс угла наклона касательной равен значению производной в этой точке. Поэтому уравнение касательной задается следующей формулой:\n",
        "\n",
        "$y = f'(x)*(x-x_0)+f(x_0)$.\n",
        "\n",
        "В коде допущено 2 ошибки. Исправьте их, чтобы получить следующий график:\n",
        "\n",
        "![FunctionTangent.png](data:image/png;base64,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)"
      ]
    },
    {
      "cell_type": "code",
      "execution_count": 70,
      "metadata": {
        "colab": {
          "base_uri": "https://localhost:8080/",
          "height": 605
        },
        "id": "V-bMK0Lc6b6E",
        "outputId": "ee06fdbc-aa2f-4af3-93e6-cf49aa455b6d"
      },
      "outputs": [
        {
          "data": {
            "image/png": "[encoded data removed]",
            "text/plain": [
              "<Figure size 1000x600 with 1 Axes>"
            ]
          },
          "metadata": {},
          "output_type": "display_data"
        }
      ],
      "source": [
        "# Импорт библиотеки для построения графиков\n",
        "import matplotlib.pyplot as plt\n",
        "\n",
        "def plot_function_and_tangent(x):\n",
        "    \"\"\"\n",
        "    Строит график функции f(x) и ее производную в заданной точке x.\n",
        "\n",
        "    Аргументы:\n",
        "    x -- координата x точки, к которой нужно провести производную.\n",
        "\n",
        "    Возвращает:\n",
        "    График функции и касательной в точке x.\n",
        "    \"\"\"\n",
        "    # Задаем отрезок, на котором хотим оценить значения функции\n",
        "    # (линии задаются множеством близколежащих точек, в данном случае\n",
        "    # 100 точек с равными интервалами в промежутке между -5 и 5).\n",
        "    x_range = np.linspace(-5, 5, 100)\n",
        "\n",
        "    # Вычисляем значения функции на отрезке\n",
        "    y = f(x_range)\n",
        "\n",
        "    # Вычисляем значение аналитической производной в точке х0\n",
        "    derivative = calculate_derivative(x)\n",
        "\n",
        "    # Зададим чуть более короткий отрезок для отображения касательной в окрестости точки х0\n",
        "    x_tang_range = np.linspace(max(x - 3, -5), min(x + 3, 5), 20) # Верно\n",
        "\n",
        "    # Вычисляем уравнение касательной\n",
        "    tangent = derivative * (x_tang_range - x) + f(x) # Верно\n",
        "\n",
        "    # Задаем канву под график\n",
        "    plt.figure(figsize=(10, 6))\n",
        "    # Строим функцию\n",
        "    plt.plot(x_range, y, label='Функция f(x)')\n",
        "    # Добавляем график касательной в точке\n",
        "    plt.plot(x_tang_range, tangent, label=f'Производная в x={x}')\n",
        "    plt.style.use('default')\n",
        "    plt.xlabel('x')\n",
        "    plt.ylabel('y')\n",
        "    plt.title('Функция и касательная в точке')\n",
        "    plt.legend()\n",
        "    plt.grid(True)\n",
        "    plt.show()\n",
        "\n",
        "plot_function_and_tangent(x=-2)"
      ]
    },
    {
      "cell_type": "markdown",
      "metadata": {
        "id": "as-LmhVBbQcB"
      },
      "source": [
        "**Задание 9 (2 балла)**\n",
        "\n",
        "Проверка признаков на коллинеарность.\n",
        "Даны значения двух признаков, X1 и X2.\n",
        "\n",
        "Проверьте, существует ли коллинеарность между этими признаками, вычислив коэффициент корреляции Пирсона между соответствующими векторами. Корреляция вычисляется как отношение коэффициента ковариации к произведению стандартных отклонений признаков.\n",
        "\n",
        "\n",
        "\n"
      ]
    },
    {
      "cell_type": "code",
      "execution_count": 79,
      "metadata": {
        "id": "MT0dEUShoH2s"
      },
      "outputs": [],
      "source": [
        "def calculate_correlation(X1, X2):\n",
        "    \"\"\"\n",
        "    Вычисляет коэффициент корелляции между двумя векторами X1, X2.\n",
        "\n",
        "    Аргументы:\n",
        "    X1 -- вектор значений признака 1.\n",
        "    X2 -- вектор значений признака 2.\n",
        "\n",
        "    Возвращает:\n",
        "    correlation -- коэффициент корреляции между векторами X1 и X2.\n",
        "    \"\"\"\n",
        "    # Вычислите средние значения для каждого признака, используя функцию np.mean\n",
        "    #НАЧАЛО ВАШЕГО РЕШЕНИЯ\n",
        "    mean1 = np.mean(X1)\n",
        "    mean2 = np.mean(X2)\n",
        "    #КОНЕЦ ВАШЕГО РЕШЕНИЯ\n",
        "\n",
        "    # Вычислите ковариацию между X1 и X2, используя функцию np.sum\n",
        "    #НАЧАЛО ВАШЕГО РЕШЕНИЯ\n",
        "    cov = 1 / (len(X1) - 1) * np.sum((X1 - mean1) * (X2 - mean2))\n",
        "    #КОНЕЦ ВАШЕГО РЕШЕНИЯ\n",
        "\n",
        "    # Вычислите стандартные отклонения X1 и X2, использая функции np.sqrt, np.sum\n",
        "    #НАЧАЛО ВАШЕГО РЕШЕНИЯ\n",
        "    std1 = np.sqrt(1 / (len(X1) - 1) * np.sum((X1 - mean1) ** 2))\n",
        "    std2 = np.sqrt(1 / (len(X2) - 1) * np.sum((X2 - mean2) ** 2))\n",
        "    #КОНЕЦ ВАШЕГО РЕШЕНИЯ\n",
        "\n",
        "    # Вычислите коэффициент корреляции\n",
        "    # В случае, когда одно из отклонений равно нулю, код должен возвращать np.nan\n",
        "    #НАЧАЛО ВАШЕГО РЕШЕНИЯ\n",
        "    if std1 == 0 or std2 == 0:\n",
        "        return np.nan\n",
        "    else:\n",
        "        correlation = cov / (std1 * std2)\n",
        "    #КОНЕЦ ВАШЕГО РЕШЕНИЯ\n",
        "\n",
        "    return correlation"
      ]
    },
    {
      "cell_type": "code",
      "execution_count": 81,
      "metadata": {
        "id": "DUz-HFkBoG6P"
      },
      "outputs": [],
      "source": [
        "X1, X2 = [1, 2, 3, 4, 5], [2, 4, 6, 8, 10]\n",
        "assert np.isclose(calculate_correlation(X1, X2), 1, atol=0.1)\n",
        "X1, X2 = [-1, -2, -3, -4, -5], [2, 4, 6, 8, 10]\n",
        "assert np.isclose(calculate_correlation(X1, X2), -1, atol=0.1)\n",
        "X1, X2 = [1, 2, 3, 4, 5], [10, 8, 6, 4, 2]\n",
        "assert np.isclose(calculate_correlation(X1, X2), -1, atol=0.1)\n",
        "X1, X2 = [-1, 3, -5, 7, 9], [1, -3, 5, -7, 9]\n",
        "assert np.isclose(calculate_correlation(X1, X2), -0.11, atol=0.1)\n",
        "X1, X2 = [1, 1, 1, 1, 1], [2, 2, 2, 2, 2]\n",
        "assert np.isnan(calculate_correlation(X1, X2))"
      ]
    },
    {
      "cell_type": "markdown",
      "metadata": {
        "id": "Ddha8Xcs_7tw"
      },
      "source": [
        "# Поздравляем!\n",
        "В этом домашнем задании вы вспомнили, как пользоваться библиотекой `NumPy`, вручную реализовали несколько базовых операций с векторами и матрицами, рассчитали производную и построили график с помощью библиотеки `Matplotlib`. Наконец, вы реализовали функцию расчета коэффициента корреляции Пирсона."
      ]
    }
  ],
  "metadata": {
    "colab": {
      "provenance": []
    },
    "kernelspec": {
      "display_name": "Python 3",
      "name": "python3"
    },
    "language_info": {
      "codemirror_mode": {
        "name": "ipython",
        "version": 3
      },
      "file_extension": ".py",
      "mimetype": "text/x-python",
      "name": "python",
      "nbconvert_exporter": "python",
      "pygments_lexer": "ipython3",
      "version": "3.13.1"
    }
  },
  "nbformat": 4,
  "nbformat_minor": 0
}
