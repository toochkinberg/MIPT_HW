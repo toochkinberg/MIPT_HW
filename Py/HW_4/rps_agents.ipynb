{
 "cells": [
  {
   "cell_type": "code",
   "execution_count": 1,
   "metadata": {},
   "outputs": [
    {
     "name": "stderr",
     "output_type": "stream",
     "text": [
      "c:\\Users\\valer\\AppData\\Local\\Programs\\Python\\Python312\\Lib\\site-packages\\tqdm\\auto.py:21: TqdmWarning: IProgress not found. Please update jupyter and ipywidgets. See https://ipywidgets.readthedocs.io/en/stable/user_install.html\n",
      "  from .autonotebook import tqdm as notebook_tqdm\n"
     ]
    },
    {
     "name": "stdout",
     "output_type": "stream",
     "text": [
      "termcolor not installed, skipping dependency\n",
      "No pygame installed, ignoring import\n",
      "Loading environment lux_ai_s3 failed: No module named 'chex'\n"
     ]
    }
   ],
   "source": [
    "# Подключаем нужные библиотеки\n",
    "from kaggle_environments import make, evaluate\n",
    "import numpy as np\n",
    "import random\n",
    "import collections\n",
    "import pandas as pd\n",
    "import matplotlib.pyplot as plt\n",
    "import seaborn as sns\n",
    "import warnings\n",
    "\n",
    "warnings.filterwarnings('ignore')\n",
    "\n",
    "# Обозначения для ходов:\n",
    "# 0 - камень\n",
    "# 1 - бумага\n",
    "# 2 - ножницы\n",
    "\n",
    "# Создаем окружение для игры с заданным количеством шагов (ходов)\n",
    "env = make(\"rps\", configuration={\"episodeSteps\": 100})"
   ]
  },
  {
   "cell_type": "markdown",
   "metadata": {},
   "source": [
    "Опишем поведение агента, всегда играющего \"камень\" - это значение 0"
   ]
  },
  {
   "cell_type": "code",
   "execution_count": 2,
   "metadata": {},
   "outputs": [
    {
     "name": "stdout",
     "output_type": "stream",
     "text": [
      "Overwriting rock_agent.py\n"
     ]
    }
   ],
   "source": [
    "%%writefile rock_agent.py\n",
    "\n",
    "#1\n",
    "#Example of the simple agent\n",
    "#0 - rock\n",
    "#1 - paper\n",
    "#2 - scissors\n",
    "def rock_agent(observation, configuration):\n",
    "    return 0"
   ]
  },
  {
   "cell_type": "code",
   "execution_count": 3,
   "metadata": {},
   "outputs": [
    {
     "name": "stdout",
     "output_type": "stream",
     "text": [
      "Overwriting paper_agent.py\n"
     ]
    }
   ],
   "source": [
    "%%writefile paper_agent.py\n",
    "\n",
    "#2\n",
    "def paper_agent(observation, configuration):\n",
    "    return 1"
   ]
  },
  {
   "cell_type": "code",
   "execution_count": 4,
   "metadata": {},
   "outputs": [
    {
     "name": "stdout",
     "output_type": "stream",
     "text": [
      "Overwriting scissors_agent.py\n"
     ]
    }
   ],
   "source": [
    "%%writefile scissors_agent.py\n",
    "\n",
    "#3\n",
    "def scissors_agent(observation, configuration):\n",
    "    return 2"
   ]
  },
  {
   "cell_type": "code",
   "execution_count": 5,
   "metadata": {},
   "outputs": [
    {
     "name": "stdout",
     "output_type": "stream",
     "text": [
      "Overwriting random_agent.py\n"
     ]
    }
   ],
   "source": [
    "%%writefile random_agent.py\n",
    "import random\n",
    "\n",
    "#4\n",
    "# Агент выбирает случайное значение\n",
    "def random_agent(observation, configuration):\n",
    "    return random.randint(0,2)"
   ]
  },
  {
   "cell_type": "code",
   "execution_count": 6,
   "metadata": {},
   "outputs": [
    {
     "name": "stdout",
     "output_type": "stream",
     "text": [
      "Overwriting paper_scissors_agent.py\n"
     ]
    }
   ],
   "source": [
    "%%writefile paper_scissors_agent.py\n",
    "import random\n",
    "\n",
    "#5\n",
    "# Агент выбирает либо ножницы, любо бумагу\n",
    "def paper_scissors_agent(observation, configuration):\n",
    "    return random.randint(1,2)"
   ]
  },
  {
   "cell_type": "code",
   "execution_count": 7,
   "metadata": {},
   "outputs": [
    {
     "name": "stdout",
     "output_type": "stream",
     "text": [
      "Overwriting rock_paper_agent.py\n"
     ]
    }
   ],
   "source": [
    "%%writefile rock_paper_agent.py\n",
    "import random\n",
    "\n",
    "#6\n",
    "# Агент выбирает либо камень, либо бумагу\n",
    "def rock_paper_agent(observation, configuration):\n",
    "    return random.randint(0,1)"
   ]
  },
  {
   "cell_type": "code",
   "execution_count": 8,
   "metadata": {},
   "outputs": [
    {
     "name": "stdout",
     "output_type": "stream",
     "text": [
      "Overwriting rock_scissors_agent.py\n"
     ]
    }
   ],
   "source": [
    "%%writefile rock_scissors_agent.py\n",
    "import random\n",
    "\n",
    "#7\n",
    "# Агент выбирает либо камень, либо ножницы\n",
    "def rock_scissors_agent(observation, configuration):\n",
    "    pool = [0, 2]\n",
    "    def random.choice(pool)"
   ]
  },
  {
   "cell_type": "code",
   "execution_count": 9,
   "metadata": {},
   "outputs": [
    {
     "name": "stdout",
     "output_type": "stream",
     "text": [
      "Overwriting copy_opponent_agent.py\n"
     ]
    }
   ],
   "source": [
    "%%writefile copy_opponent_agent.py\n",
    "import random\n",
    "\n",
    "#8\n",
    "# Агент копирует последний ход опонента, если ход первый, выбирает случайно\n",
    "def copy_opponent_agent(observation, configuration):\n",
    "    if observation.step > 0:\n",
    "        return observation.lastOpponentAction\n",
    "    else:\n",
    "        return random.randrange(0, configuration.signs)"
   ]
  },
  {
   "cell_type": "code",
   "execution_count": 10,
   "metadata": {},
   "outputs": [
    {
     "name": "stdout",
     "output_type": "stream",
     "text": [
      "Overwriting reactionary_agent.py\n"
     ]
    }
   ],
   "source": [
    "%%writefile reactionary_agent.py\n",
    "import random\n",
    "import math\n",
    "\n",
    "#9\n",
    "# Агент реагирует на последнее действие опонента\n",
    "def get_score(left_move, right_move):\n",
    "    \n",
    "    delta = (\n",
    "        right_move - left_move\n",
    "        if (left_move + right_move) % 2 == 0\n",
    "        else left_move - right_move\n",
    "    )\n",
    "    return 0 if delta == 0 else math.copysign(1, delta)\n",
    "    \n",
    "last_react_action = None\n",
    "def reactionary_agent(observation, configuration):\n",
    "    global last_react_action\n",
    "    if observation.step == 0:\n",
    "        last_react_action = random.randrange(0, configuration.signs)\n",
    "    elif get_score(last_react_action, observation.lastOpponentAction) <= 1:\n",
    "        last_react_action = (observation.lastOpponentAction + 1) % configuration.signs\n",
    "    \n",
    "    return last_react_action"
   ]
  },
  {
   "cell_type": "code",
   "execution_count": 11,
   "metadata": {},
   "outputs": [
    {
     "name": "stdout",
     "output_type": "stream",
     "text": [
      "Overwriting counter_reactironary_agent.py\n"
     ]
    }
   ],
   "source": [
    "%%writefile counter_reactironary_agent.py\n",
    "import math\n",
    "import random\n",
    "\n",
    "#10\n",
    "# Агент выбирает действие на основе результатов предыдущих ходов\n",
    "def get_score(left_move, right_move):\n",
    "    \n",
    "    delta = (\n",
    "        right_move - left_move\n",
    "        if (left_move + right_move) % 2 == 0\n",
    "        else left_move - right_move\n",
    "    )\n",
    "    return 0 if delta == 0 else math.copysign(1, delta)\n",
    "\n",
    "last_counter_action = None\n",
    "def counter_reactionary_agent(observation, configuration):\n",
    "    global last_counter_action\n",
    "    if observation.step == 0:\n",
    "        last_counter_action = random.randrange(0, configuration.signs)\n",
    "    elif get_score(last_counter_action, observation.lastOpponentAction) == 1:\n",
    "        last_counter_action = (last_counter_action + 2) % configuration.signs\n",
    "    else:\n",
    "        last_counter_action = (observation.lastOpponentAction + 1) % configuration.signs\n",
    "\n",
    "    return last_counter_action"
   ]
  },
  {
   "cell_type": "code",
   "execution_count": 12,
   "metadata": {},
   "outputs": [
    {
     "name": "stdout",
     "output_type": "stream",
     "text": [
      "Overwriting statistical_agent.py\n"
     ]
    }
   ],
   "source": [
    "%%writefile statistical_agent.py\n",
    "import random\n",
    "\n",
    "#11\n",
    "# Агент анализирует статистику ходов опонента\n",
    "action_histogram = {}\n",
    "def statistical_agent(observation, configuration):\n",
    "    global action_histogram\n",
    "    if observation.step == 0:\n",
    "        action_histogram = {}\n",
    "        return random.randint(0, 2)\n",
    "    \n",
    "    action = observation.lastOpponentAction\n",
    "    action_histogram[action] = action_histogram.get(action, 0) + 1\n",
    "\n",
    "    mode_action = max(action_histogram, key=action_histogram.get)\n",
    "    return (mode_action + 1) % configuration.signs"
   ]
  },
  {
   "cell_type": "code",
   "execution_count": 13,
   "metadata": {},
   "outputs": [
    {
     "name": "stdout",
     "output_type": "stream",
     "text": [
      "Overwriting Jonson_agent.py\n"
     ]
    }
   ],
   "source": [
    "%%writefile Jonson_agent.py\n",
    "#12\n",
    "# Агент анализирирует паттерни опонента\n",
    "\n",
    "import numpy as np\n",
    "import collections\n",
    "def Jonson_agent(observation, configuration):\n",
    "    \"\"\"\n",
    "    Агент с анализом паттернов противника. Использует таблицу частот для предсказания.\n",
    "    \"\"\"\n",
    "    k = 2\n",
    "    global table, action_seq\n",
    "    if observation.step % 25 == 0:\n",
    "        action_seq, table = [], collections.defaultdict(lambda: [1, 1, 1])  # обновляет таблицу каждые 25 шагов\n",
    "    if len(action_seq) <= 2 * k + 1:\n",
    "        action = int(np.random.randint(3))\n",
    "        if observation.step > 0:\n",
    "            action_seq.extend([observation.lastOpponentAction, action])  # добавляет последний ход противника\n",
    "        else:\n",
    "            action_seq.append(action)\n",
    "        return action\n",
    "\n",
    "    key = ''.join([str(a) for a in action_seq[:-1]])  # ключ на основе последовательности ходов\n",
    "    table[key][observation.lastOpponentAction] += 1  # обновляет таблицу по ключу\n",
    "\n",
    "    action_seq[:-2] = action_seq[2:]\n",
    "    action_seq[-2] = observation.lastOpponentAction\n",
    "    key = ''.join([str(a) for a in action_seq[:-1]])\n",
    "    \n",
    "    if observation.step < 50:\n",
    "        next_opponent_action_pred = np.argmax(table[key])  # предсказание по таблице\n",
    "    else:\n",
    "        scores = np.array(table[key])\n",
    "        next_opponent_action_pred = np.random.choice(3, p=scores/scores.sum())\n",
    "        \n",
    "    action = (next_opponent_action_pred + 1) % 3\n",
    "    if observation.step > 90:\n",
    "        action = next_opponent_action_pred\n",
    "    action_seq[-1] = action\n",
    "    return int(action)"
   ]
  },
  {
   "cell_type": "code",
   "execution_count": 14,
   "metadata": {},
   "outputs": [
    {
     "name": "stdout",
     "output_type": "stream",
     "text": [
      "Overwriting transition_agent.py\n"
     ]
    }
   ],
   "source": [
    "%%writefile transition_agent.py\n",
    "# 13. Агент с матрицей переходов для предсказания действий противника\n",
    "import numpy as np\n",
    "import pandas as pd\n",
    "import random\n",
    "\n",
    "T = np.zeros((3, 3))\n",
    "P = np.zeros((3, 3))\n",
    "\n",
    "a1, a2 = None, None\n",
    "\n",
    "def transition_agent(observation, configuration):\n",
    "    \"\"\"\n",
    "    Агент анализирует переходы между действиями противника и предсказывает следующее.\n",
    "    \"\"\"\n",
    "    global T, P, a1, a2\n",
    "    if observation.step > 1:\n",
    "        a1 = observation.lastOpponentAction\n",
    "        T[a2, a1] += 1  # обновляет матрицу переходов\n",
    "        P = np.divide(T, np.maximum(1, T.sum(axis=1)).reshape(-1, 1))\n",
    "        a2 = a1\n",
    "        if np.sum(P[a1, :]) == 1:\n",
    "            return int((np.random.choice([0, 1, 2], p=P[a1, :]) + 1) % 3)  # предсказание на основе вероятностей\n",
    "        else:\n",
    "            return int(np.random.randint(3))  # случайный ход\n",
    "    else:\n",
    "        if observation.step == 1:\n",
    "            a2 = observation.lastOpponentAction\n",
    "        return int(np.random.randint(3))"
   ]
  },
  {
   "cell_type": "code",
   "execution_count": 23,
   "metadata": {},
   "outputs": [
    {
     "name": "stdout",
     "output_type": "stream",
     "text": [
      "The winner is reactionary_agent.py !\n"
     ]
    }
   ],
   "source": [
    "# Турнир между агентами\n",
    "agents = ['rock_agent', 'paper_agent', 'scissors_agent',\n",
    "          'copy_opponent_agent', 'reactionary_agent', \n",
    "          'counter_reactironary_agent', 'statistical_agent',\n",
    "          'Jonson_agent', 'rock_paper_agent', 'paper_scissors_agent',\n",
    "          'rock_scissors_agent', 'transition_agent', 'random_agent']\n",
    "\n",
    "# Добавляем .py к каждому агенту\n",
    "agents_py = [i + \".py\" for i in agents]\n",
    "n_agents = len(agents)\n",
    "\n",
    "# Инициализируем матрицу результатов\n",
    "scores = np.zeros((n_agents, n_agents))\n",
    "\n",
    "# Играем каждый агент против каждого\n",
    "for i in range(n_agents):\n",
    "    for j in range(i + 1, n_agents):\n",
    "        result = evaluate(\"rps\", [agents_py[i], agents_py[j]], configuration={\"episodeSteps\": 100}, num_episodes=1)\n",
    "        scores[i][j] = result[0][0]  # сохраняем результат для агента i\n",
    "        scores[j][i] = result[0][1]  # сохраняем результат для агента j\n",
    "\n",
    "# Определяем победителя\n",
    "vic = []\n",
    "for i in range(n_agents):\n",
    "    cnt_vic = sum(1 for j in range(n_agents) if scores[i][j] > 0)  # считаем победы агента\n",
    "    vic.append(cnt_vic)\n",
    "\n",
    "# Определяем индексы победителей\n",
    "i_victors = [i for i, v in enumerate(vic) if v == max(vic)]\n",
    "if len(i_victors) > 1:\n",
    "    print(\"The winners are\", '\\n', *[agents_py[i] for i in i_victors], \"!\")\n",
    "else:\n",
    "    print(\"The winner is\", agents_py[i_victors[0]], \"!\")"
   ]
  }
 ],
 "metadata": {
  "kernelspec": {
   "display_name": "Python 3",
   "language": "python",
   "name": "python3"
  },
  "language_info": {
   "codemirror_mode": {
    "name": "ipython",
    "version": 3
   },
   "file_extension": ".py",
   "mimetype": "text/x-python",
   "name": "python",
   "nbconvert_exporter": "python",
   "pygments_lexer": "ipython3",
   "version": "3.12.4"
  }
 },
 "nbformat": 4,
 "nbformat_minor": 2
}
