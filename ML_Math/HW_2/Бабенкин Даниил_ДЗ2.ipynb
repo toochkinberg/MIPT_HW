{
 "cells": [
  {
   "cell_type": "markdown",
   "metadata": {
    "id": "NyHIGVhfa_Wf"
   },
   "source": [
    "# Стохастический градиентный и координатный спуски"
   ]
  },
  {
   "cell_type": "markdown",
   "metadata": {
    "id": "gn6lluIADUKa"
   },
   "source": [
    "Для каждого задания указано количество баллов (если они оцениваются отдельно) + 1 балл за аккуратное и полное выполнение всего задания"
   ]
  },
  {
   "cell_type": "markdown",
   "metadata": {
    "id": "txCccYvha_Wv"
   },
   "source": [
    "## Загрузка и подготовка данных"
   ]
  },
  {
   "cell_type": "markdown",
   "metadata": {
    "id": "NbyOzeZ6a_Wx"
   },
   "source": [
    "**Загрузите уже знакомый вам файл *Advertising.csv* как объект DataFrame.** "
   ]
  },
  {
   "cell_type": "code",
   "execution_count": 1,
   "metadata": {
    "id": "E1L4_xeDa_Wz"
   },
   "outputs": [
    {
     "data": {
      "text/html": [
       "<div>\n",
       "<style scoped>\n",
       "    .dataframe tbody tr th:only-of-type {\n",
       "        vertical-align: middle;\n",
       "    }\n",
       "\n",
       "    .dataframe tbody tr th {\n",
       "        vertical-align: top;\n",
       "    }\n",
       "\n",
       "    .dataframe thead th {\n",
       "        text-align: right;\n",
       "    }\n",
       "</style>\n",
       "<table border=\"1\" class=\"dataframe\">\n",
       "  <thead>\n",
       "    <tr style=\"text-align: right;\">\n",
       "      <th></th>\n",
       "      <th>Unnamed: 0</th>\n",
       "      <th>TV</th>\n",
       "      <th>radio</th>\n",
       "      <th>newspaper</th>\n",
       "      <th>sales</th>\n",
       "    </tr>\n",
       "  </thead>\n",
       "  <tbody>\n",
       "    <tr>\n",
       "      <th>0</th>\n",
       "      <td>1</td>\n",
       "      <td>230.1</td>\n",
       "      <td>37.8</td>\n",
       "      <td>69.2</td>\n",
       "      <td>22.1</td>\n",
       "    </tr>\n",
       "    <tr>\n",
       "      <th>1</th>\n",
       "      <td>2</td>\n",
       "      <td>44.5</td>\n",
       "      <td>39.3</td>\n",
       "      <td>45.1</td>\n",
       "      <td>10.4</td>\n",
       "    </tr>\n",
       "    <tr>\n",
       "      <th>2</th>\n",
       "      <td>3</td>\n",
       "      <td>17.2</td>\n",
       "      <td>45.9</td>\n",
       "      <td>69.3</td>\n",
       "      <td>9.3</td>\n",
       "    </tr>\n",
       "    <tr>\n",
       "      <th>3</th>\n",
       "      <td>4</td>\n",
       "      <td>151.5</td>\n",
       "      <td>41.3</td>\n",
       "      <td>58.5</td>\n",
       "      <td>18.5</td>\n",
       "    </tr>\n",
       "    <tr>\n",
       "      <th>4</th>\n",
       "      <td>5</td>\n",
       "      <td>180.8</td>\n",
       "      <td>10.8</td>\n",
       "      <td>58.4</td>\n",
       "      <td>12.9</td>\n",
       "    </tr>\n",
       "    <tr>\n",
       "      <th>...</th>\n",
       "      <td>...</td>\n",
       "      <td>...</td>\n",
       "      <td>...</td>\n",
       "      <td>...</td>\n",
       "      <td>...</td>\n",
       "    </tr>\n",
       "    <tr>\n",
       "      <th>195</th>\n",
       "      <td>196</td>\n",
       "      <td>38.2</td>\n",
       "      <td>3.7</td>\n",
       "      <td>13.8</td>\n",
       "      <td>7.6</td>\n",
       "    </tr>\n",
       "    <tr>\n",
       "      <th>196</th>\n",
       "      <td>197</td>\n",
       "      <td>94.2</td>\n",
       "      <td>4.9</td>\n",
       "      <td>8.1</td>\n",
       "      <td>9.7</td>\n",
       "    </tr>\n",
       "    <tr>\n",
       "      <th>197</th>\n",
       "      <td>198</td>\n",
       "      <td>177.0</td>\n",
       "      <td>9.3</td>\n",
       "      <td>6.4</td>\n",
       "      <td>12.8</td>\n",
       "    </tr>\n",
       "    <tr>\n",
       "      <th>198</th>\n",
       "      <td>199</td>\n",
       "      <td>283.6</td>\n",
       "      <td>42.0</td>\n",
       "      <td>66.2</td>\n",
       "      <td>25.5</td>\n",
       "    </tr>\n",
       "    <tr>\n",
       "      <th>199</th>\n",
       "      <td>200</td>\n",
       "      <td>232.1</td>\n",
       "      <td>8.6</td>\n",
       "      <td>8.7</td>\n",
       "      <td>13.4</td>\n",
       "    </tr>\n",
       "  </tbody>\n",
       "</table>\n",
       "<p>200 rows × 5 columns</p>\n",
       "</div>"
      ],
      "text/plain": [
       "     Unnamed: 0     TV  radio  newspaper  sales\n",
       "0             1  230.1   37.8       69.2   22.1\n",
       "1             2   44.5   39.3       45.1   10.4\n",
       "2             3   17.2   45.9       69.3    9.3\n",
       "3             4  151.5   41.3       58.5   18.5\n",
       "4             5  180.8   10.8       58.4   12.9\n",
       "..          ...    ...    ...        ...    ...\n",
       "195         196   38.2    3.7       13.8    7.6\n",
       "196         197   94.2    4.9        8.1    9.7\n",
       "197         198  177.0    9.3        6.4   12.8\n",
       "198         199  283.6   42.0       66.2   25.5\n",
       "199         200  232.1    8.6        8.7   13.4\n",
       "\n",
       "[200 rows x 5 columns]"
      ]
     },
     "execution_count": 1,
     "metadata": {},
     "output_type": "execute_result"
    }
   ],
   "source": [
    "#ваш код\n",
    "import pandas as pd\n",
    "import numpy as np\n",
    "\n",
    "df = pd.read_csv('Advertising.csv')\n",
    "df"
   ]
  },
  {
   "cell_type": "markdown",
   "metadata": {
    "id": "bf4aVFndDUKf"
   },
   "source": [
    "**Проверьте, есть ли в данных пропуски и, если они есть - удалите их**"
   ]
  },
  {
   "cell_type": "code",
   "execution_count": 2,
   "metadata": {
    "id": "tiVeFnR5DUKg"
   },
   "outputs": [
    {
     "name": "stdout",
     "output_type": "stream",
     "text": [
      "<class 'pandas.core.frame.DataFrame'>\n",
      "RangeIndex: 200 entries, 0 to 199\n",
      "Data columns (total 5 columns):\n",
      " #   Column      Non-Null Count  Dtype  \n",
      "---  ------      --------------  -----  \n",
      " 0   Unnamed: 0  200 non-null    int64  \n",
      " 1   TV          200 non-null    float64\n",
      " 2   radio       200 non-null    float64\n",
      " 3   newspaper   200 non-null    float64\n",
      " 4   sales       200 non-null    float64\n",
      "dtypes: float64(4), int64(1)\n",
      "memory usage: 7.9 KB\n"
     ]
    }
   ],
   "source": [
    "#ваш код\n",
    "\n",
    "df.info()\n",
    "# пропусков нет"
   ]
  },
  {
   "cell_type": "markdown",
   "metadata": {
    "id": "rTkiqPr_DUKh"
   },
   "source": [
    "**Преобразуйте ваши признаки в массивы NumPy и разделите их на переменные X (предикторы) и y(целевая переменная)** "
   ]
  },
  {
   "cell_type": "code",
   "execution_count": 3,
   "metadata": {
    "id": "R9OHIRB3a_Xa"
   },
   "outputs": [],
   "source": [
    "#ваш код\n",
    "# Столбец 'Unnamed' не несёт никакой смысловой нагрузки, можем его удалить\n",
    "# df.drop(columns='Unnamed: 0', inplace=True)\n",
    "\n",
    "# Зададим предикторы\n",
    "X = np.array(df[['TV', 'radio', 'newspaper']])\n",
    "\n",
    "# Зададим таргет\n",
    "y = np.array(df['sales'])"
   ]
  },
  {
   "cell_type": "markdown",
   "metadata": {
    "id": "KCvjSoHEDUKo"
   },
   "source": [
    "## Координатный спуск (3 балла)"
   ]
  },
  {
   "cell_type": "markdown",
   "metadata": {
    "id": "yjNm8dATDUKq"
   },
   "source": [
    "**Добавим единичный столбец для того, чтобы у нас был свободный коэффициент в уравнении регрессии:**"
   ]
  },
  {
   "cell_type": "code",
   "execution_count": 4,
   "metadata": {
    "id": "LMgq0fmKDUKr"
   },
   "outputs": [],
   "source": [
    "import numpy as np\n",
    "X = np.hstack([np.ones(X.shape[0]).reshape(-1, 1), X])"
   ]
  },
  {
   "cell_type": "markdown",
   "metadata": {
    "id": "R008OQwcDUKt"
   },
   "source": [
    "**Нормализуем данные: обычно это необходимо для корректной работы алгоритма**"
   ]
  },
  {
   "cell_type": "code",
   "execution_count": 5,
   "metadata": {
    "id": "2Sk7Wx-SDUKt"
   },
   "outputs": [],
   "source": [
    "X = X / np.sqrt(np.sum(np.square(X), axis=0))"
   ]
  },
  {
   "cell_type": "markdown",
   "metadata": {
    "id": "F_pHHbAdDUKu"
   },
   "source": [
    "**Реализуйте алгоритм координатного спуска:** (3 балла)\n",
    "\n",
    "Ниже приведен алгоритм:"
   ]
  },
  {
   "cell_type": "markdown",
   "metadata": {
    "id": "jBQ8vT5UDUKu"
   },
   "source": [
    "<a href=\"https://ibb.co/Th3BQFn\"><img src=\"https://i.ibb.co/DK2DBS6/zascas.jpg\" alt=\"zascas\" border=\"0\"></a>"
   ]
  },
  {
   "cell_type": "markdown",
   "metadata": {
    "id": "5ce_yM20DUKv"
   },
   "source": [
    "Примечание: 1000 итераций здесь указаны для этого задания, на самом деле их может быть намного больше, нет детерменированного значения."
   ]
  },
  {
   "cell_type": "markdown",
   "metadata": {
    "id": "y3IdiHm9DUKv"
   },
   "source": [
    "Вам необходимо реализовать координатный спуск, и вывести веса в модели линейной регрессии."
   ]
  },
  {
   "cell_type": "code",
   "execution_count": 6,
   "metadata": {
    "id": "Vsi3d9OfDUKw"
   },
   "outputs": [
    {
     "name": "stdout",
     "output_type": "stream",
     "text": [
      "Веса модели: [ 41.56217205 110.13144155  73.52860638  -0.55006384]\n"
     ]
    }
   ],
   "source": [
    "#ваш код\n",
    "def coord_desc(X, y, iter):\n",
    "    w = np.zeros(X.shape[1])\n",
    "\n",
    "    for i in range(iter):\n",
    "        for j in range(len(w)):\n",
    "            r = y - X @ w   # внести этот шаг во внутренний цикл будет более верно, т.к. иначе при определении w[j] с 2 по len(w) не будут учитываться ранее рассчитанные веса в пределах одной итерации\n",
    "            r_no_j = r + X[:, j] * w[j]\n",
    "            w[j] = X[:, j] @ r_no_j\n",
    "            r = r - X[:, j] * w[j]\n",
    "\n",
    "    return w\n",
    "\n",
    "print(f'Веса модели: {coord_desc(X=X, y=y, iter=1000)}')"
   ]
  },
  {
   "cell_type": "markdown",
   "metadata": {
    "id": "a3jG-7UADUKx"
   },
   "source": [
    "Сравните результаты с реализацией линейной регрессии из библиотеки sklearn:"
   ]
  },
  {
   "cell_type": "code",
   "execution_count": 7,
   "metadata": {
    "id": "SBl-1Yb5DUKy"
   },
   "outputs": [
    {
     "name": "stdout",
     "output_type": "stream",
     "text": [
      "[ 41.56217205 110.13144155  73.52860638  -0.55006384]\n"
     ]
    }
   ],
   "source": [
    "from sklearn.linear_model import LinearRegression\n",
    " \n",
    "model = LinearRegression(fit_intercept=False)\n",
    "model.fit(X, y)\n",
    " \n",
    "print(model.coef_)"
   ]
  },
  {
   "cell_type": "markdown",
   "metadata": {
    "id": "hIl0AGLyDUKy"
   },
   "source": [
    "Если вы все сделали верно, они должны практически совпасть!"
   ]
  },
  {
   "cell_type": "markdown",
   "metadata": {
    "id": "VCGwFnPdDUKz"
   },
   "source": [
    "## Стохастический градиентный спуск (6 баллов)"
   ]
  },
  {
   "cell_type": "markdown",
   "metadata": {
    "id": "5u7Q2YJla_Xk"
   },
   "source": [
    "**Отмасштабируйте столбцы исходной матрицы *X* (которую мы не нормализовали еще!). Для того, чтобы это сделать, надо вычесть из каждого значения среднее и разделить на стандартное отклонение** (0.5 баллов)"
   ]
  },
  {
   "cell_type": "code",
   "execution_count": 8,
   "metadata": {
    "id": "9cEpV_5La_Xo"
   },
   "outputs": [],
   "source": [
    "#ваш код\n",
    "# Заново зададим датафрейм, предикторы (X)\n",
    "df = pd.read_csv('Advertising.csv')\n",
    "X = np.array(df[['TV', 'radio', 'newspaper']])\n",
    "\n",
    "# Отмасштабируем полученные данные\n",
    "std = np.std(X, axis=0)\n",
    "std[std == 0] = 1\n",
    "X = (X - np.mean(X, axis=0)) / std"
   ]
  },
  {
   "cell_type": "markdown",
   "metadata": {
    "id": "8WkNYILHDUK1"
   },
   "source": [
    "**Добавим единичный столбец**"
   ]
  },
  {
   "cell_type": "code",
   "execution_count": 9,
   "metadata": {
    "id": "EVl5tEGtDUK1"
   },
   "outputs": [],
   "source": [
    "X = np.hstack([np.ones(X.shape[0]).reshape(-1, 1), X])"
   ]
  },
  {
   "cell_type": "markdown",
   "metadata": {
    "id": "m53tZA5fDUK1"
   },
   "source": [
    "**Создайте функцию mse_error для вычисления среднеквадратичной ошибки, принимающую два аргумента: реальные значения и предсказывающие, и возвращающую значение mse** (0.5 балла)"
   ]
  },
  {
   "cell_type": "code",
   "execution_count": 10,
   "metadata": {
    "id": "0cvtC08Aa_YK"
   },
   "outputs": [],
   "source": [
    "#ваш код\n",
    "def mse_error(real, pred):\n",
    "    mse = np.mean(np.square(real - pred))\n",
    "    return mse"
   ]
  },
  {
   "cell_type": "markdown",
   "metadata": {
    "id": "lpOLhdvBDUK2"
   },
   "source": [
    "**Сделайте наивный прогноз: предскажите продажи средним значением. После этого рассчитайте среднеквадратичную ошибку для этого прогноза** (0.5 балла)"
   ]
  },
  {
   "cell_type": "code",
   "execution_count": 11,
   "metadata": {
    "id": "kLV_XljVa_YZ"
   },
   "outputs": [
    {
     "name": "stdout",
     "output_type": "stream",
     "text": [
      "MSE on naive prediction: 27.085743750000002\n"
     ]
    }
   ],
   "source": [
    "#ваш код\n",
    "# Зададим предсказание средним значением\n",
    "fake_pred = np.mean(y)\n",
    "\n",
    "# Считаем mse\n",
    "print(f'MSE on naive prediction: {mse_error(y, fake_pred)}')"
   ]
  },
  {
   "cell_type": "markdown",
   "metadata": {
    "id": "BbybL2ola_ZM"
   },
   "source": [
    "**Создайте функцию *lin_pred*, которая может по матрице предикторов *X* и вектору весов линейной модели *w* получить вектор прогнозов** (0.5 балла)"
   ]
  },
  {
   "cell_type": "code",
   "execution_count": 12,
   "metadata": {
    "id": "1Cyz-Luaa_ZO"
   },
   "outputs": [],
   "source": [
    "#ваш код\n",
    "def lin_pred(X, w):\n",
    "    y_pred = X @ w\n",
    "    return y_pred"
   ]
  },
  {
   "cell_type": "markdown",
   "metadata": {
    "id": "BU4adBrya_Zm"
   },
   "source": [
    "**Создайте функцию *stoch_grad_step* для реализации шага стохастического градиентного спуска. (1.5 балла) \n",
    "Функция должна принимать на вход следующие аргументы:**\n",
    "* матрицу *X*\n",
    "* вектора *y* и *w*\n",
    "* число *train_ind* - индекс объекта обучающей выборки (строки матрицы *X*), по которому считается изменение весов\n",
    "* число *$\\eta$* (eta) - шаг градиентного спуска\n",
    "\n",
    "Результатом будет вектор обновленных весов"
   ]
  },
  {
   "cell_type": "markdown",
   "metadata": {
    "id": "dyLY-P02DUK5"
   },
   "source": [
    "Шаг для стохастического градиентного спуска выглядит следующим образом:"
   ]
  },
  {
   "cell_type": "markdown",
   "metadata": {
    "id": "ORsAyIKNDUK5"
   },
   "source": [
    "$$\\Large w_j \\leftarrow w_j - \\frac{2\\eta}{\\ell} \\sum_{i=1}^\\ell{{x_{ij}((w_0 + w_1x_{i1} + w_2x_{i2} +  w_3x_{i3}) - y_i)}}$$"
   ]
  },
  {
   "cell_type": "markdown",
   "metadata": {
    "id": "CQl2FrpuDUK6"
   },
   "source": [
    "Для того, чтобы написать функцию, нужно сделать следующее:\n",
    "    \n",
    "*  посчитать направление изменения: умножить объект обучающей выборки на 2 и на разницу между предсказанным значением и реальным, а потом поделить на количество элементов в выборке.\n",
    "* вернуть разницу между вектором весов и направлением изменения, умноженным на шаг градиентного спуска"
   ]
  },
  {
   "cell_type": "code",
   "execution_count": 13,
   "metadata": {
    "id": "YUhVQGsja_Zn"
   },
   "outputs": [],
   "source": [
    "#ваш код\n",
    "def stoch_grad_step(X, y, w, train_ind, eta):\n",
    "    diff_dir = np.array(X[train_ind] * 2 * (X[train_ind] @ w - y[train_ind]) / len(y))\n",
    "    step = w - np.array(diff_dir) * eta\n",
    "    return step"
   ]
  },
  {
   "cell_type": "markdown",
   "metadata": {
    "id": "pXwIFd0Ma_Zx"
   },
   "source": [
    "**Создайте функцию *stochastic_gradient_descent*, для реализации стохастического градиентного спуска (2.5 балла)**\n",
    "\n",
    "**Функция принимает на вход следующие аргументы:**\n",
    "- Матрицу признаков X\n",
    "- Целевую переменнную\n",
    "- Изначальную точку (веса модели)\n",
    "- Параметр, определяющий темп обучения\n",
    "- Максимальное число итераций\n",
    "- Евклидово расстояние между векторами весов на соседних итерациях градиентного спуска,при котором алгоритм прекращает работу \n",
    "\n",
    "**На каждой итерации в вектор (список) должно записываться текущее значение среднеквадратичной ошибки. Функция должна возвращать вектор весов $w$, а также вектор (список) ошибок.**"
   ]
  },
  {
   "cell_type": "markdown",
   "metadata": {
    "id": "ZVeoNF1JDUK7"
   },
   "source": [
    "Алгоритм сследующий:\n",
    "    \n",
    "* Инициализируйте расстояние между векторами весов на соседних итерациях большим числом (можно бесконечностью)\n",
    "* Создайте пустой список для фиксации ошибок\n",
    "* Создайте счетчик итераций\n",
    "* Реализуйте оновной цикл обучения пока расстояние между векторами весов больше того, при котором надо прекратить работу (когда расстояния станут слишком маленькими - значит, мы застряли в одном месте) и количество итераций меньше максимально разрешенного: сгенерируйте случайный индекс, запишите текущую ошибку в вектор ошибок, запишите в переменную текущий шаг стохастического спуска с использованием функции, написанной ранее. Далее рассчитайте текущее расстояние между векторами весов и прибавьте к счетчику итераций 1.\n",
    "* Верните вектор весов и вектор ошибок"
   ]
  },
  {
   "cell_type": "code",
   "execution_count": 14,
   "metadata": {
    "id": "CD_xcFNfa_Zy"
   },
   "outputs": [],
   "source": [
    "# ваш код\n",
    "def stochastic_gradient_descent(X, y, w, eta, max_iter, min_dist):\n",
    "    # Расстояние между векторами весов на соседних итерациях\n",
    "    curr_dist = np. inf\n",
    "    # Список для фиксации ошибок\n",
    "    error = []\n",
    "    # Счётчик итераций\n",
    "    curr_iter = 0\n",
    "    # Для удобства проверки результатов зададим seed\n",
    "    np.random.seed(42)\n",
    "\n",
    "    while curr_dist > min_dist and curr_iter < max_iter:\n",
    "        # Задаём случайную строку для итерации в диапазоне от 0 до количества строк предикторов\n",
    "        random_ind = np.random.randint(X.shape[0])\n",
    "        # Считаем текущий шаг стохастического спуска\n",
    "        new_w = stoch_grad_step(X=X, y=y, w=w, train_ind=random_ind, eta=eta)\n",
    "        # Считаем предсказанное значение с новыми весами\n",
    "        y_pred = lin_pred(X=X, w=new_w)\n",
    "        # Записываем текующую среднеквадратичную ошибку\n",
    "        error.append(mse_error(y, y_pred))\n",
    "        # Увеличиваем показатель счётчика\n",
    "        curr_iter += 1\n",
    "        #Расстояние между весами\n",
    "        curr_dist = np.linalg.norm(new_w - w)\n",
    "        # Перезаписываем веса\n",
    "        w = new_w\n",
    "        \n",
    "    return w, error"
   ]
  },
  {
   "cell_type": "markdown",
   "metadata": {
    "id": "0OqHO1Rta_Z7"
   },
   "source": [
    " **Запустите $10^5$ итераций стохастического градиентного спуска. Укажите вектор начальных весов, состоящий из нулей. Можете поэкспериментировать с параметром, отвечающим за темп обучения.**"
   ]
  },
  {
   "cell_type": "markdown",
   "metadata": {
    "id": "N6fHHT6vDUK8"
   },
   "source": [
    "**Постройте график зависимости ошибки от номера итерации**"
   ]
  },
  {
   "cell_type": "code",
   "execution_count": 15,
   "metadata": {
    "id": "zsSfHDzLDUK9"
   },
   "outputs": [],
   "source": [
    "# ваш код\n",
    "# Зададим количество итераций, вектро начальных весов, минимальное евклидово расстояние и eta\n",
    "iter = 10 ** 5\n",
    "w = np.zeros(X.shape[1])\n",
    "min_dist = 1e-8\n",
    "eta = 0.01\n",
    "\n",
    "# Запустим функцию\n",
    "vect, mse = stochastic_gradient_descent(X=X, y=y, w=w, eta=eta, max_iter=iter, min_dist=min_dist)"
   ]
  },
  {
   "cell_type": "markdown",
   "metadata": {
    "id": "O-MVOcJ6a_aY"
   },
   "source": [
    "**Выведите вектор весов, к которому сошелся метод.**"
   ]
  },
  {
   "cell_type": "code",
   "execution_count": 16,
   "metadata": {
    "id": "MPjVkXe4DUK9"
   },
   "outputs": [
    {
     "name": "stdout",
     "output_type": "stream",
     "text": [
      "Вектор весов: [ 1.40190566e+01  3.91069256e+00  2.78209808e+00 -8.10462217e-03]\n"
     ]
    }
   ],
   "source": [
    "# ваш код\n",
    "print(f'Вектор весов: {vect}')"
   ]
  },
  {
   "cell_type": "markdown",
   "metadata": {
    "id": "qabzMc3Qa_a5"
   },
   "source": [
    "**Выведите среднеквадратичную ошибку на последней итерации.**"
   ]
  },
  {
   "cell_type": "code",
   "execution_count": 17,
   "metadata": {
    "id": "7tPWleMIa_a7"
   },
   "outputs": [
    {
     "name": "stdout",
     "output_type": "stream",
     "text": [
      "Среднеквадратичная ошибка на последней итерации: 2.7844125884067035\n"
     ]
    }
   ],
   "source": [
    "# ваш код\n",
    "print(f'Среднеквадратичная ошибка на последней итерации: {mse[-1]}')"
   ]
  }
 ],
 "metadata": {
  "colab": {
   "collapsed_sections": [],
   "name": "Практика_Оптимизация.ipynb",
   "provenance": [],
   "toc_visible": true
  },
  "kernelspec": {
   "display_name": "Python 3",
   "language": "python",
   "name": "python3"
  },
  "language_info": {
   "codemirror_mode": {
    "name": "ipython",
    "version": 3
   },
   "file_extension": ".py",
   "mimetype": "text/x-python",
   "name": "python",
   "nbconvert_exporter": "python",
   "pygments_lexer": "ipython3",
   "version": "3.12.4"
  }
 },
 "nbformat": 4,
 "nbformat_minor": 0
}
